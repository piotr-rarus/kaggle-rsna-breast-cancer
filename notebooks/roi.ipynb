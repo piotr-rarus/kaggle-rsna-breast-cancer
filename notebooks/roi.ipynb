{
 "cells": [
  {
   "cell_type": "code",
   "execution_count": null,
   "metadata": {},
   "outputs": [],
   "source": [
    "%load_ext autoreload\n",
    "%autoreload 2\n",
    "\n",
    "import sys; sys.path.append(\"../\")\n",
    "\n",
    "import cv2\n",
    "from src.lib.cv import normalize_dicom\n",
    "from pathlib import Path\n",
    "from pydicom import dcmread\n",
    "import plotly.express as px\n",
    "import numpy as np\n"
   ]
  },
  {
   "cell_type": "code",
   "execution_count": null,
   "metadata": {},
   "outputs": [],
   "source": [
    "DICOM_PATH = Path(\"../data/train_images/426/824075419.dcm\")"
   ]
  },
  {
   "cell_type": "code",
   "execution_count": null,
   "metadata": {},
   "outputs": [],
   "source": [
    "dicom = dcmread(DICOM_PATH)\n",
    "image = normalize_dicom(dicom)\n",
    "\n",
    "if dicom.ImageLaterality == \"R\":\n",
    "    image = cv2.flip(image, 1)\n",
    "\n",
    "image = cv2.resize(image, dsize=None, fx=0.2, fy=0.2, interpolation=cv2.INTER_AREA)\n",
    "fig = px.imshow(image)\n",
    "fig.show(renderer=\"png\")"
   ]
  },
  {
   "cell_type": "code",
   "execution_count": null,
   "metadata": {},
   "outputs": [],
   "source": [
    "image *= 255\n",
    "image = image.astype(np.uint8)"
   ]
  },
  {
   "cell_type": "code",
   "execution_count": null,
   "metadata": {},
   "outputs": [],
   "source": [
    "threshold, threshed_image = cv2.threshold(image, 0, 255, cv2.THRESH_BINARY+cv2.THRESH_OTSU)\n",
    "fig = px.imshow(threshed_image)\n",
    "fig.show(renderer=\"png\")"
   ]
  },
  {
   "cell_type": "code",
   "execution_count": null,
   "metadata": {},
   "outputs": [],
   "source": [
    "edges = cv2.Canny(image, 25, 50)\n",
    "fig = px.imshow(edges)\n",
    "fig.show(renderer=\"png\")"
   ]
  },
  {
   "cell_type": "code",
   "execution_count": null,
   "metadata": {},
   "outputs": [],
   "source": [
    "binary_image = cv2.add(threshed_image, edges)\n",
    "fig = px.imshow(binary_image)\n",
    "fig.show(renderer=\"png\")"
   ]
  },
  {
   "cell_type": "code",
   "execution_count": null,
   "metadata": {},
   "outputs": [],
   "source": [
    "closing = cv2.morphologyEx(binary_image, cv2.MORPH_CLOSE, cv2.getStructuringElement(cv2.MORPH_ELLIPSE, (7, 7)), iterations=5)\n",
    "fig = px.imshow(closing)\n",
    "fig.show(renderer=\"png\")"
   ]
  },
  {
   "cell_type": "code",
   "execution_count": null,
   "metadata": {},
   "outputs": [],
   "source": [
    "opening = cv2.morphologyEx(closing, cv2.MORPH_OPEN, cv2.getStructuringElement(cv2.MORPH_ELLIPSE, (7, 7)), iterations=3)\n",
    "fig = px.imshow(opening)\n",
    "fig.show(renderer=\"png\")"
   ]
  },
  {
   "cell_type": "code",
   "execution_count": null,
   "metadata": {},
   "outputs": [],
   "source": [
    "nb_components, output, stats, centroid = cv2.connectedComponentsWithStats(closing)"
   ]
  },
  {
   "cell_type": "code",
   "execution_count": null,
   "metadata": {},
   "outputs": [],
   "source": [
    "areas = [label_stats[cv2.CC_STAT_AREA] for label_stats in stats[1:]]\n",
    "largest_component_index = areas.index(max(areas)) + 1"
   ]
  },
  {
   "cell_type": "code",
   "execution_count": null,
   "metadata": {},
   "outputs": [],
   "source": [
    "largest_component_mask = output == largest_component_index"
   ]
  },
  {
   "cell_type": "code",
   "execution_count": null,
   "metadata": {},
   "outputs": [],
   "source": [
    "fig = px.imshow(largest_component_mask.astype(np.float64))\n",
    "fig.show(renderer=\"png\")"
   ]
  },
  {
   "cell_type": "code",
   "execution_count": null,
   "metadata": {},
   "outputs": [],
   "source": [
    "cc_left = stats[largest_component_index, cv2.CC_STAT_LEFT]\n",
    "cc_top = stats[largest_component_index, cv2.CC_STAT_TOP]\n",
    "cc_width = stats[largest_component_index, cv2.CC_STAT_WIDTH]\n",
    "cc_height = stats[largest_component_index, cv2.CC_STAT_HEIGHT]\n",
    "\n",
    "largest_component_mask = largest_component_mask.astype(np.float64)"
   ]
  },
  {
   "cell_type": "code",
   "execution_count": null,
   "metadata": {},
   "outputs": [],
   "source": []
  },
  {
   "cell_type": "code",
   "execution_count": null,
   "metadata": {},
   "outputs": [],
   "source": [
    "breast_cut = largest_component_mask[cc_top: cc_top + cc_height, cc_left: cc_left + cc_width]\n",
    "fig = px.imshow(breast_cut)\n",
    "fig.show(renderer=\"png\")"
   ]
  },
  {
   "cell_type": "code",
   "execution_count": null,
   "metadata": {},
   "outputs": [],
   "source": [
    "image_cut = image[cc_top: cc_top + cc_height, cc_left: cc_left + cc_width]\n",
    "fig = px.imshow(image_cut)\n",
    "fig.show(renderer=\"png\")"
   ]
  }
 ],
 "metadata": {
  "kernelspec": {
   "display_name": ".venv",
   "language": "python",
   "name": "python3"
  },
  "language_info": {
   "codemirror_mode": {
    "name": "ipython",
    "version": 3
   },
   "file_extension": ".py",
   "mimetype": "text/x-python",
   "name": "python",
   "nbconvert_exporter": "python",
   "pygments_lexer": "ipython3",
   "version": "3.10.6"
  },
  "orig_nbformat": 4,
  "vscode": {
   "interpreter": {
    "hash": "9b4208e909ca0dadec6153e8dcfab744f4d3e1a03ffe15d0c9a8fa19fba581a3"
   }
  }
 },
 "nbformat": 4,
 "nbformat_minor": 2
}
